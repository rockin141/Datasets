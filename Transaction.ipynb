{
  "nbformat": 4,
  "nbformat_minor": 0,
  "metadata": {
    "colab": {
      "provenance": [],
      "collapsed_sections": [],
      "authorship_tag": "ABX9TyNSxBLRpBQsDIdC+k3vMI50",
      "include_colab_link": true
    },
    "kernelspec": {
      "name": "python3",
      "display_name": "Python 3"
    },
    "language_info": {
      "name": "python"
    }
  },
  "cells": [
    {
      "cell_type": "markdown",
      "metadata": {
        "id": "view-in-github",
        "colab_type": "text"
      },
      "source": [
        "<a href=\"https://colab.research.google.com/github/rockin141/Datasets/blob/master/Transaction.ipynb\" target=\"_parent\"><img src=\"https://colab.research.google.com/assets/colab-badge.svg\" alt=\"Open In Colab\"/></a>"
      ]
    },
    {
      "cell_type": "code",
      "execution_count": null,
      "metadata": {
        "id": "LIiYrrDkyZTm"
      },
      "outputs": [],
      "source": [
        "import pandas as pd"
      ]
    },
    {
      "cell_type": "code",
      "source": [
        "transaction = pd.read_csv('Transaction.csv')"
      ],
      "metadata": {
        "id": "v-zBfnfN0GU-"
      },
      "execution_count": null,
      "outputs": []
    },
    {
      "cell_type": "code",
      "source": [
        "transaction"
      ],
      "metadata": {
        "colab": {
          "base_uri": "https://localhost:8080/",
          "height": 520
        },
        "id": "_QW1-pek0Pj5",
        "outputId": "a13920bd-16fe-4bd5-ca45-0b94ea9f4347"
      },
      "execution_count": null,
      "outputs": [
        {
          "output_type": "execute_result",
          "data": {
            "text/plain": [
              "      Transaction_id  customer_id        Date    Product  Gender Device_Type  \\\n",
              "0              40170   1348959766  11/14/2013  Hair Band  Female         Web   \n",
              "1              76028   1645228017  12/21/2013       Jean  Female         Web   \n",
              "2              17894   1610000572  10/10/2013      Shirt    Male         Web   \n",
              "3              17949   2217960309  10/10/2013      Shirt    Male         Web   \n",
              "4              17951   2219304866  10/10/2013     Shirts    Male         Web   \n",
              "...              ...          ...         ...        ...     ...         ...   \n",
              "2805           87229   1934341369    1/4/2014      Shoes  Female      Mobile   \n",
              "2806           91945   1506256089   1/11/2014      Shoes  Female      Mobile   \n",
              "2807           92063   1651310842   1/11/2014      Shoes  Female      Mobile   \n",
              "2808           92458   2152149636   1/12/2014      Shoes  Female      Mobile   \n",
              "2809           92660   1382338268   1/12/2014      Shoes  Female      Mobile   \n",
              "\n",
              "         Category Customer_Login_type     Delivery_Type  Quantity Amount US$  \\\n",
              "0     Accessories              Member   one-day deliver        12      6,910   \n",
              "1        Clothing               Guest   one-day deliver        16        641   \n",
              "2        Clothing              Member  one-day delivery        12      1,647   \n",
              "3        Clothing              Member   one-day deliver        17          0   \n",
              "4        Clothing              Member   one-day deliver        22      5,298   \n",
              "...           ...                 ...               ...       ...        ...   \n",
              "2805    wearables              Member   one-day deliver        13      3,495   \n",
              "2806    wearables              Member   one-day deliver        13      9,900   \n",
              "2807    wearables              Member   one-day deliver        23      1,768   \n",
              "2808    wearables              Member   one-day deliver        16      9,216   \n",
              "2809    wearables              Member   one-day deliver        16      3,298   \n",
              "\n",
              "     Individual_Price_US$  \n",
              "0                     576  \n",
              "1                      40  \n",
              "2                     137  \n",
              "3                       0  \n",
              "4                     241  \n",
              "...                   ...  \n",
              "2805                  269  \n",
              "2806                  762  \n",
              "2807                   77  \n",
              "2808                  576  \n",
              "2809                  206  \n",
              "\n",
              "[2810 rows x 12 columns]"
            ],
            "text/html": [
              "\n",
              "  <div id=\"df-a36e7c4d-c6fb-4797-9ed6-ab4e7ba400a5\">\n",
              "    <div class=\"colab-df-container\">\n",
              "      <div>\n",
              "<style scoped>\n",
              "    .dataframe tbody tr th:only-of-type {\n",
              "        vertical-align: middle;\n",
              "    }\n",
              "\n",
              "    .dataframe tbody tr th {\n",
              "        vertical-align: top;\n",
              "    }\n",
              "\n",
              "    .dataframe thead th {\n",
              "        text-align: right;\n",
              "    }\n",
              "</style>\n",
              "<table border=\"1\" class=\"dataframe\">\n",
              "  <thead>\n",
              "    <tr style=\"text-align: right;\">\n",
              "      <th></th>\n",
              "      <th>Transaction_id</th>\n",
              "      <th>customer_id</th>\n",
              "      <th>Date</th>\n",
              "      <th>Product</th>\n",
              "      <th>Gender</th>\n",
              "      <th>Device_Type</th>\n",
              "      <th>Category</th>\n",
              "      <th>Customer_Login_type</th>\n",
              "      <th>Delivery_Type</th>\n",
              "      <th>Quantity</th>\n",
              "      <th>Amount US$</th>\n",
              "      <th>Individual_Price_US$</th>\n",
              "    </tr>\n",
              "  </thead>\n",
              "  <tbody>\n",
              "    <tr>\n",
              "      <th>0</th>\n",
              "      <td>40170</td>\n",
              "      <td>1348959766</td>\n",
              "      <td>11/14/2013</td>\n",
              "      <td>Hair Band</td>\n",
              "      <td>Female</td>\n",
              "      <td>Web</td>\n",
              "      <td>Accessories</td>\n",
              "      <td>Member</td>\n",
              "      <td>one-day deliver</td>\n",
              "      <td>12</td>\n",
              "      <td>6,910</td>\n",
              "      <td>576</td>\n",
              "    </tr>\n",
              "    <tr>\n",
              "      <th>1</th>\n",
              "      <td>76028</td>\n",
              "      <td>1645228017</td>\n",
              "      <td>12/21/2013</td>\n",
              "      <td>Jean</td>\n",
              "      <td>Female</td>\n",
              "      <td>Web</td>\n",
              "      <td>Clothing</td>\n",
              "      <td>Guest</td>\n",
              "      <td>one-day deliver</td>\n",
              "      <td>16</td>\n",
              "      <td>641</td>\n",
              "      <td>40</td>\n",
              "    </tr>\n",
              "    <tr>\n",
              "      <th>2</th>\n",
              "      <td>17894</td>\n",
              "      <td>1610000572</td>\n",
              "      <td>10/10/2013</td>\n",
              "      <td>Shirt</td>\n",
              "      <td>Male</td>\n",
              "      <td>Web</td>\n",
              "      <td>Clothing</td>\n",
              "      <td>Member</td>\n",
              "      <td>one-day delivery</td>\n",
              "      <td>12</td>\n",
              "      <td>1,647</td>\n",
              "      <td>137</td>\n",
              "    </tr>\n",
              "    <tr>\n",
              "      <th>3</th>\n",
              "      <td>17949</td>\n",
              "      <td>2217960309</td>\n",
              "      <td>10/10/2013</td>\n",
              "      <td>Shirt</td>\n",
              "      <td>Male</td>\n",
              "      <td>Web</td>\n",
              "      <td>Clothing</td>\n",
              "      <td>Member</td>\n",
              "      <td>one-day deliver</td>\n",
              "      <td>17</td>\n",
              "      <td>0</td>\n",
              "      <td>0</td>\n",
              "    </tr>\n",
              "    <tr>\n",
              "      <th>4</th>\n",
              "      <td>17951</td>\n",
              "      <td>2219304866</td>\n",
              "      <td>10/10/2013</td>\n",
              "      <td>Shirts</td>\n",
              "      <td>Male</td>\n",
              "      <td>Web</td>\n",
              "      <td>Clothing</td>\n",
              "      <td>Member</td>\n",
              "      <td>one-day deliver</td>\n",
              "      <td>22</td>\n",
              "      <td>5,298</td>\n",
              "      <td>241</td>\n",
              "    </tr>\n",
              "    <tr>\n",
              "      <th>...</th>\n",
              "      <td>...</td>\n",
              "      <td>...</td>\n",
              "      <td>...</td>\n",
              "      <td>...</td>\n",
              "      <td>...</td>\n",
              "      <td>...</td>\n",
              "      <td>...</td>\n",
              "      <td>...</td>\n",
              "      <td>...</td>\n",
              "      <td>...</td>\n",
              "      <td>...</td>\n",
              "      <td>...</td>\n",
              "    </tr>\n",
              "    <tr>\n",
              "      <th>2805</th>\n",
              "      <td>87229</td>\n",
              "      <td>1934341369</td>\n",
              "      <td>1/4/2014</td>\n",
              "      <td>Shoes</td>\n",
              "      <td>Female</td>\n",
              "      <td>Mobile</td>\n",
              "      <td>wearables</td>\n",
              "      <td>Member</td>\n",
              "      <td>one-day deliver</td>\n",
              "      <td>13</td>\n",
              "      <td>3,495</td>\n",
              "      <td>269</td>\n",
              "    </tr>\n",
              "    <tr>\n",
              "      <th>2806</th>\n",
              "      <td>91945</td>\n",
              "      <td>1506256089</td>\n",
              "      <td>1/11/2014</td>\n",
              "      <td>Shoes</td>\n",
              "      <td>Female</td>\n",
              "      <td>Mobile</td>\n",
              "      <td>wearables</td>\n",
              "      <td>Member</td>\n",
              "      <td>one-day deliver</td>\n",
              "      <td>13</td>\n",
              "      <td>9,900</td>\n",
              "      <td>762</td>\n",
              "    </tr>\n",
              "    <tr>\n",
              "      <th>2807</th>\n",
              "      <td>92063</td>\n",
              "      <td>1651310842</td>\n",
              "      <td>1/11/2014</td>\n",
              "      <td>Shoes</td>\n",
              "      <td>Female</td>\n",
              "      <td>Mobile</td>\n",
              "      <td>wearables</td>\n",
              "      <td>Member</td>\n",
              "      <td>one-day deliver</td>\n",
              "      <td>23</td>\n",
              "      <td>1,768</td>\n",
              "      <td>77</td>\n",
              "    </tr>\n",
              "    <tr>\n",
              "      <th>2808</th>\n",
              "      <td>92458</td>\n",
              "      <td>2152149636</td>\n",
              "      <td>1/12/2014</td>\n",
              "      <td>Shoes</td>\n",
              "      <td>Female</td>\n",
              "      <td>Mobile</td>\n",
              "      <td>wearables</td>\n",
              "      <td>Member</td>\n",
              "      <td>one-day deliver</td>\n",
              "      <td>16</td>\n",
              "      <td>9,216</td>\n",
              "      <td>576</td>\n",
              "    </tr>\n",
              "    <tr>\n",
              "      <th>2809</th>\n",
              "      <td>92660</td>\n",
              "      <td>1382338268</td>\n",
              "      <td>1/12/2014</td>\n",
              "      <td>Shoes</td>\n",
              "      <td>Female</td>\n",
              "      <td>Mobile</td>\n",
              "      <td>wearables</td>\n",
              "      <td>Member</td>\n",
              "      <td>one-day deliver</td>\n",
              "      <td>16</td>\n",
              "      <td>3,298</td>\n",
              "      <td>206</td>\n",
              "    </tr>\n",
              "  </tbody>\n",
              "</table>\n",
              "<p>2810 rows × 12 columns</p>\n",
              "</div>\n",
              "      <button class=\"colab-df-convert\" onclick=\"convertToInteractive('df-a36e7c4d-c6fb-4797-9ed6-ab4e7ba400a5')\"\n",
              "              title=\"Convert this dataframe to an interactive table.\"\n",
              "              style=\"display:none;\">\n",
              "        \n",
              "  <svg xmlns=\"http://www.w3.org/2000/svg\" height=\"24px\"viewBox=\"0 0 24 24\"\n",
              "       width=\"24px\">\n",
              "    <path d=\"M0 0h24v24H0V0z\" fill=\"none\"/>\n",
              "    <path d=\"M18.56 5.44l.94 2.06.94-2.06 2.06-.94-2.06-.94-.94-2.06-.94 2.06-2.06.94zm-11 1L8.5 8.5l.94-2.06 2.06-.94-2.06-.94L8.5 2.5l-.94 2.06-2.06.94zm10 10l.94 2.06.94-2.06 2.06-.94-2.06-.94-.94-2.06-.94 2.06-2.06.94z\"/><path d=\"M17.41 7.96l-1.37-1.37c-.4-.4-.92-.59-1.43-.59-.52 0-1.04.2-1.43.59L10.3 9.45l-7.72 7.72c-.78.78-.78 2.05 0 2.83L4 21.41c.39.39.9.59 1.41.59.51 0 1.02-.2 1.41-.59l7.78-7.78 2.81-2.81c.8-.78.8-2.07 0-2.86zM5.41 20L4 18.59l7.72-7.72 1.47 1.35L5.41 20z\"/>\n",
              "  </svg>\n",
              "      </button>\n",
              "      \n",
              "  <style>\n",
              "    .colab-df-container {\n",
              "      display:flex;\n",
              "      flex-wrap:wrap;\n",
              "      gap: 12px;\n",
              "    }\n",
              "\n",
              "    .colab-df-convert {\n",
              "      background-color: #E8F0FE;\n",
              "      border: none;\n",
              "      border-radius: 50%;\n",
              "      cursor: pointer;\n",
              "      display: none;\n",
              "      fill: #1967D2;\n",
              "      height: 32px;\n",
              "      padding: 0 0 0 0;\n",
              "      width: 32px;\n",
              "    }\n",
              "\n",
              "    .colab-df-convert:hover {\n",
              "      background-color: #E2EBFA;\n",
              "      box-shadow: 0px 1px 2px rgba(60, 64, 67, 0.3), 0px 1px 3px 1px rgba(60, 64, 67, 0.15);\n",
              "      fill: #174EA6;\n",
              "    }\n",
              "\n",
              "    [theme=dark] .colab-df-convert {\n",
              "      background-color: #3B4455;\n",
              "      fill: #D2E3FC;\n",
              "    }\n",
              "\n",
              "    [theme=dark] .colab-df-convert:hover {\n",
              "      background-color: #434B5C;\n",
              "      box-shadow: 0px 1px 3px 1px rgba(0, 0, 0, 0.15);\n",
              "      filter: drop-shadow(0px 1px 2px rgba(0, 0, 0, 0.3));\n",
              "      fill: #FFFFFF;\n",
              "    }\n",
              "  </style>\n",
              "\n",
              "      <script>\n",
              "        const buttonEl =\n",
              "          document.querySelector('#df-a36e7c4d-c6fb-4797-9ed6-ab4e7ba400a5 button.colab-df-convert');\n",
              "        buttonEl.style.display =\n",
              "          google.colab.kernel.accessAllowed ? 'block' : 'none';\n",
              "\n",
              "        async function convertToInteractive(key) {\n",
              "          const element = document.querySelector('#df-a36e7c4d-c6fb-4797-9ed6-ab4e7ba400a5');\n",
              "          const dataTable =\n",
              "            await google.colab.kernel.invokeFunction('convertToInteractive',\n",
              "                                                     [key], {});\n",
              "          if (!dataTable) return;\n",
              "\n",
              "          const docLinkHtml = 'Like what you see? Visit the ' +\n",
              "            '<a target=\"_blank\" href=https://colab.research.google.com/notebooks/data_table.ipynb>data table notebook</a>'\n",
              "            + ' to learn more about interactive tables.';\n",
              "          element.innerHTML = '';\n",
              "          dataTable['output_type'] = 'display_data';\n",
              "          await google.colab.output.renderOutput(dataTable, element);\n",
              "          const docLink = document.createElement('div');\n",
              "          docLink.innerHTML = docLinkHtml;\n",
              "          element.appendChild(docLink);\n",
              "        }\n",
              "      </script>\n",
              "    </div>\n",
              "  </div>\n",
              "  "
            ]
          },
          "metadata": {},
          "execution_count": 8
        }
      ]
    },
    {
      "cell_type": "markdown",
      "source": [
        "**Table Check**\n",
        "\n",
        "---"
      ],
      "metadata": {
        "id": "RiWwgYfE05aj"
      }
    },
    {
      "cell_type": "code",
      "source": [
        "transaction.info()"
      ],
      "metadata": {
        "colab": {
          "base_uri": "https://localhost:8080/"
        },
        "id": "10n7TafC0f5f",
        "outputId": "6e740c61-2a7d-4dff-cd31-7523fe232c6b"
      },
      "execution_count": null,
      "outputs": [
        {
          "output_type": "stream",
          "name": "stdout",
          "text": [
            "<class 'pandas.core.frame.DataFrame'>\n",
            "RangeIndex: 2810 entries, 0 to 2809\n",
            "Data columns (total 12 columns):\n",
            " #   Column                Non-Null Count  Dtype \n",
            "---  ------                --------------  ----- \n",
            " 0   Transaction_id        2810 non-null   int64 \n",
            " 1   customer_id           2810 non-null   int64 \n",
            " 2   Date                  2810 non-null   object\n",
            " 3   Product               2810 non-null   object\n",
            " 4   Gender                2810 non-null   object\n",
            " 5   Device_Type           2810 non-null   object\n",
            " 6   Category              2810 non-null   object\n",
            " 7   Customer_Login_type   2810 non-null   object\n",
            " 8   Delivery_Type         2810 non-null   object\n",
            " 9   Quantity              2810 non-null   int64 \n",
            " 10  Amount US$            2809 non-null   object\n",
            " 11  Individual_Price_US$  2810 non-null   object\n",
            "dtypes: int64(3), object(9)\n",
            "memory usage: 263.6+ KB\n"
          ]
        }
      ]
    },
    {
      "cell_type": "markdown",
      "source": [
        "**Back-up Table**"
      ],
      "metadata": {
        "id": "KkHsnxfZ1jTi"
      }
    },
    {
      "cell_type": "code",
      "source": [
        "transaction_backup = transaction.copy()"
      ],
      "metadata": {
        "id": "va-KuJXH0tDP"
      },
      "execution_count": null,
      "outputs": []
    },
    {
      "cell_type": "markdown",
      "source": [
        "**Cleaning Process :**\n",
        "\n",
        "  1. Datatype Update from int to object\n",
        "\n",
        "*   transaction_id\n",
        "*   customer_id\n",
        "\n"
      ],
      "metadata": {
        "id": "HP-sZqpE1xSz"
      }
    },
    {
      "cell_type": "code",
      "source": [
        "transaction['Transaction_id'] = transaction['Transaction_id'].astype('str')"
      ],
      "metadata": {
        "id": "mPnSwvmd1vdx"
      },
      "execution_count": null,
      "outputs": []
    },
    {
      "cell_type": "code",
      "source": [
        "transaction['customer_id'] = transaction['customer_id'].astype('str') "
      ],
      "metadata": {
        "id": "0C5vzH_x2aPE"
      },
      "execution_count": null,
      "outputs": []
    },
    {
      "cell_type": "code",
      "source": [
        "transaction.info()"
      ],
      "metadata": {
        "colab": {
          "base_uri": "https://localhost:8080/"
        },
        "id": "9Oq5l0Jl2kWZ",
        "outputId": "19498fda-4d7d-4aee-c16b-d801861445b8"
      },
      "execution_count": null,
      "outputs": [
        {
          "output_type": "stream",
          "name": "stdout",
          "text": [
            "<class 'pandas.core.frame.DataFrame'>\n",
            "RangeIndex: 2810 entries, 0 to 2809\n",
            "Data columns (total 12 columns):\n",
            " #   Column                Non-Null Count  Dtype \n",
            "---  ------                --------------  ----- \n",
            " 0   Transaction_id        2810 non-null   object\n",
            " 1   customer_id           2810 non-null   object\n",
            " 2   Date                  2810 non-null   object\n",
            " 3   Product               2810 non-null   object\n",
            " 4   Gender                2810 non-null   object\n",
            " 5   Device_Type           2810 non-null   object\n",
            " 6   Category              2810 non-null   object\n",
            " 7   Customer_Login_type   2810 non-null   object\n",
            " 8   Delivery_Type         2810 non-null   object\n",
            " 9   Quantity              2810 non-null   int64 \n",
            " 10  Amount US$            2809 non-null   object\n",
            " 11  Individual_Price_US$  2810 non-null   object\n",
            "dtypes: int64(1), object(11)\n",
            "memory usage: 263.6+ KB\n"
          ]
        }
      ]
    },
    {
      "cell_type": "markdown",
      "source": [
        "\n",
        "  2. Update Datatype Date from object to date\n",
        "  \n",
        "\n"
      ],
      "metadata": {
        "id": "Fh0VMhfA3JEn"
      }
    },
    {
      "cell_type": "code",
      "source": [
        "transaction['Date'] = pd.to_datetime(transaction['Date'], format = '%m/%d/%Y')"
      ],
      "metadata": {
        "id": "sTuV2cz13k5D"
      },
      "execution_count": null,
      "outputs": []
    },
    {
      "cell_type": "code",
      "source": [
        "transaction.info()"
      ],
      "metadata": {
        "colab": {
          "base_uri": "https://localhost:8080/"
        },
        "id": "Pcv3lvFk4UPf",
        "outputId": "6d3950f5-32b3-439b-f141-424c9e8e504b"
      },
      "execution_count": null,
      "outputs": [
        {
          "output_type": "stream",
          "name": "stdout",
          "text": [
            "<class 'pandas.core.frame.DataFrame'>\n",
            "RangeIndex: 2810 entries, 0 to 2809\n",
            "Data columns (total 12 columns):\n",
            " #   Column                Non-Null Count  Dtype         \n",
            "---  ------                --------------  -----         \n",
            " 0   Transaction_id        2810 non-null   object        \n",
            " 1   customer_id           2810 non-null   object        \n",
            " 2   Date                  2810 non-null   datetime64[ns]\n",
            " 3   Product               2810 non-null   object        \n",
            " 4   Gender                2810 non-null   object        \n",
            " 5   Device_Type           2810 non-null   object        \n",
            " 6   Category              2810 non-null   object        \n",
            " 7   Customer_Login_type   2810 non-null   object        \n",
            " 8   Delivery_Type         2810 non-null   object        \n",
            " 9   Quantity              2810 non-null   int64         \n",
            " 10  Amount US$            2809 non-null   object        \n",
            " 11  Individual_Price_US$  2810 non-null   object        \n",
            "dtypes: datetime64[ns](1), int64(1), object(10)\n",
            "memory usage: 263.6+ KB\n"
          ]
        }
      ]
    },
    {
      "cell_type": "markdown",
      "source": [
        "3. Change Amount US$ to int & Individual Price to int"
      ],
      "metadata": {
        "id": "jq5BHwHZ7CPR"
      }
    },
    {
      "cell_type": "code",
      "source": [
        "transaction['Amount US$']"
      ],
      "metadata": {
        "colab": {
          "base_uri": "https://localhost:8080/"
        },
        "id": "09XQPxe064J0",
        "outputId": "977dc231-f135-4835-bb5e-7c4949a7d656"
      },
      "execution_count": null,
      "outputs": [
        {
          "output_type": "execute_result",
          "data": {
            "text/plain": [
              "0       6,910\n",
              "1         641\n",
              "2       1,647\n",
              "3           0\n",
              "4       5,298\n",
              "        ...  \n",
              "2805    3,495\n",
              "2806    9,900\n",
              "2807    1,768\n",
              "2808    9,216\n",
              "2809    3,298\n",
              "Name: Amount US$, Length: 2810, dtype: object"
            ]
          },
          "metadata": {},
          "execution_count": 20
        }
      ]
    },
    {
      "cell_type": "markdown",
      "source": [
        "Note : Before changing the datatype make sure there is no NaN or Null (Missing Value) in the data"
      ],
      "metadata": {
        "id": "DqN3byRt7g7c"
      }
    },
    {
      "cell_type": "markdown",
      "source": [
        "\n",
        "\n",
        "*   Cleaning Missing Value\n",
        "\n",
        "\n"
      ],
      "metadata": {
        "id": "BsfBsBaR8Q89"
      }
    },
    {
      "cell_type": "code",
      "source": [
        "transaction = transaction.dropna(axis=0)"
      ],
      "metadata": {
        "id": "6gqgsWAU8bF0"
      },
      "execution_count": null,
      "outputs": []
    },
    {
      "cell_type": "markdown",
      "source": [
        "\n",
        "\n",
        "*   axis=0 (Rows)\n",
        "*   axis=1 (Column)\n",
        "\n"
      ],
      "metadata": {
        "id": "n9zXtr278grP"
      }
    },
    {
      "cell_type": "code",
      "source": [
        "transaction.info()"
      ],
      "metadata": {
        "colab": {
          "base_uri": "https://localhost:8080/"
        },
        "id": "x91MsbrL8rc_",
        "outputId": "3e07393c-fce7-42ad-d056-ef3260386bc1"
      },
      "execution_count": null,
      "outputs": [
        {
          "output_type": "stream",
          "name": "stdout",
          "text": [
            "<class 'pandas.core.frame.DataFrame'>\n",
            "Int64Index: 2809 entries, 0 to 2809\n",
            "Data columns (total 12 columns):\n",
            " #   Column                Non-Null Count  Dtype         \n",
            "---  ------                --------------  -----         \n",
            " 0   Transaction_id        2809 non-null   object        \n",
            " 1   customer_id           2809 non-null   object        \n",
            " 2   Date                  2809 non-null   datetime64[ns]\n",
            " 3   Product               2809 non-null   object        \n",
            " 4   Gender                2809 non-null   object        \n",
            " 5   Device_Type           2809 non-null   object        \n",
            " 6   Category              2809 non-null   object        \n",
            " 7   Customer_Login_type   2809 non-null   object        \n",
            " 8   Delivery_Type         2809 non-null   object        \n",
            " 9   Quantity              2809 non-null   int64         \n",
            " 10  Amount US$            2809 non-null   object        \n",
            " 11  Individual_Price_US$  2809 non-null   object        \n",
            "dtypes: datetime64[ns](1), int64(1), object(10)\n",
            "memory usage: 285.3+ KB\n"
          ]
        }
      ]
    },
    {
      "cell_type": "markdown",
      "source": [
        "To change from object to int make sure there is no characters in the data"
      ],
      "metadata": {
        "id": "I49wAKI083kN"
      }
    },
    {
      "cell_type": "code",
      "source": [
        "transaction['Amount US$'] = transaction['Amount US$'].str.replace(',','')"
      ],
      "metadata": {
        "colab": {
          "base_uri": "https://localhost:8080/"
        },
        "id": "9Qc_Zn6O8y01",
        "outputId": "c7426b90-c459-4547-9d55-d65cef9f00b0"
      },
      "execution_count": null,
      "outputs": [
        {
          "output_type": "stream",
          "name": "stderr",
          "text": [
            "/usr/local/lib/python3.7/dist-packages/ipykernel_launcher.py:1: SettingWithCopyWarning: \n",
            "A value is trying to be set on a copy of a slice from a DataFrame.\n",
            "Try using .loc[row_indexer,col_indexer] = value instead\n",
            "\n",
            "See the caveats in the documentation: https://pandas.pydata.org/pandas-docs/stable/user_guide/indexing.html#returning-a-view-versus-a-copy\n",
            "  \"\"\"Entry point for launching an IPython kernel.\n"
          ]
        }
      ]
    },
    {
      "cell_type": "code",
      "source": [
        "transaction['Amount US$']"
      ],
      "metadata": {
        "colab": {
          "base_uri": "https://localhost:8080/"
        },
        "id": "VJWyCue69M0r",
        "outputId": "b822db1d-067e-4638-e0b9-a0a435bc46ea"
      },
      "execution_count": null,
      "outputs": [
        {
          "output_type": "execute_result",
          "data": {
            "text/plain": [
              "0       6910\n",
              "1        641\n",
              "2       1647\n",
              "3          0\n",
              "4       5298\n",
              "        ... \n",
              "2805    3495\n",
              "2806    9900\n",
              "2807    1768\n",
              "2808    9216\n",
              "2809    3298\n",
              "Name: Amount US$, Length: 2809, dtype: object"
            ]
          },
          "metadata": {},
          "execution_count": 24
        }
      ]
    },
    {
      "cell_type": "code",
      "source": [
        "transaction['Amount US$'] = transaction['Amount US$'].astype('int')"
      ],
      "metadata": {
        "colab": {
          "base_uri": "https://localhost:8080/"
        },
        "id": "38yVGpma9VXN",
        "outputId": "dc7feeb9-78e5-4351-f0bf-5e99781633d7"
      },
      "execution_count": null,
      "outputs": [
        {
          "output_type": "stream",
          "name": "stderr",
          "text": [
            "/usr/local/lib/python3.7/dist-packages/ipykernel_launcher.py:1: SettingWithCopyWarning: \n",
            "A value is trying to be set on a copy of a slice from a DataFrame.\n",
            "Try using .loc[row_indexer,col_indexer] = value instead\n",
            "\n",
            "See the caveats in the documentation: https://pandas.pydata.org/pandas-docs/stable/user_guide/indexing.html#returning-a-view-versus-a-copy\n",
            "  \"\"\"Entry point for launching an IPython kernel.\n"
          ]
        }
      ]
    },
    {
      "cell_type": "code",
      "source": [
        "transaction.info()"
      ],
      "metadata": {
        "colab": {
          "base_uri": "https://localhost:8080/"
        },
        "id": "dS8B6pTv9aun",
        "outputId": "a0e66382-f92b-4269-ec59-56f8ab60d845"
      },
      "execution_count": null,
      "outputs": [
        {
          "output_type": "stream",
          "name": "stdout",
          "text": [
            "<class 'pandas.core.frame.DataFrame'>\n",
            "Int64Index: 2809 entries, 0 to 2809\n",
            "Data columns (total 12 columns):\n",
            " #   Column                Non-Null Count  Dtype         \n",
            "---  ------                --------------  -----         \n",
            " 0   Transaction_id        2809 non-null   object        \n",
            " 1   customer_id           2809 non-null   object        \n",
            " 2   Date                  2809 non-null   datetime64[ns]\n",
            " 3   Product               2809 non-null   object        \n",
            " 4   Gender                2809 non-null   object        \n",
            " 5   Device_Type           2809 non-null   object        \n",
            " 6   Category              2809 non-null   object        \n",
            " 7   Customer_Login_type   2809 non-null   object        \n",
            " 8   Delivery_Type         2809 non-null   object        \n",
            " 9   Quantity              2809 non-null   int64         \n",
            " 10  Amount US$            2809 non-null   int64         \n",
            " 11  Individual_Price_US$  2809 non-null   object        \n",
            "dtypes: datetime64[ns](1), int64(2), object(9)\n",
            "memory usage: 285.3+ KB\n"
          ]
        }
      ]
    },
    {
      "cell_type": "code",
      "source": [
        "transaction['Individual_Price_US$'].unique()"
      ],
      "metadata": {
        "colab": {
          "base_uri": "https://localhost:8080/"
        },
        "id": "9499wsme9usg",
        "outputId": "c7ab185f-8537-4bad-b88f-5d3b6e6e77c8"
      },
      "execution_count": null,
      "outputs": [
        {
          "output_type": "execute_result",
          "data": {
            "text/plain": [
              "array(['576', '40', '137', '0', '241', '237', '88', '125', '155', '939',\n",
              "       '73', '331', '29', '250', '253', '282', '156', '460', '85', '500',\n",
              "       '248', '23', '44', '28', '352', '154', '14', '83', '17', '170',\n",
              "       '267', '131', '150', '378', '144', '169', '145', '36', '60', '473',\n",
              "       '110', '359', '432', '323', '127', '53', '920', '54', '219', '117',\n",
              "       '70', '11', '166', '200', '4', '100', '223', '550', '78', '298',\n",
              "       '714', '329', '58', '1,387', '148', '25', '133', '493', '245',\n",
              "       '108', '59', '65', '1,318', '455', '99', '261', '61', '94', '204',\n",
              "       '231', '695', '64', '32', '859', '56', '143', '382', '130', '33',\n",
              "       '50', '63', '38', '385', '775', '168', '252', '447', '102',\n",
              "       '1,497', '639', '81', '353', '167', '22', '115', '781', '1,389',\n",
              "       '116', '293', '140', '368', '#VALUE!', '80', '182', '18', '15',\n",
              "       '123', '233', '297', '86', '1,343', '176', '313', '306', '42',\n",
              "       '3,839', '95', '6', '257', '383', '243', '242', '47', '8', '341',\n",
              "       '230', '138', '224', '186', '118', '180', '39', '76', '43', '21',\n",
              "       '77', '128', '1,040', '194', '240', '67', '114', '135', '163',\n",
              "       '644', '229', '1,583', '188', '174', '89', '358', '311', '1,036',\n",
              "       '283', '308', '112', '348', '45', '134', '942', '202', '251',\n",
              "       '106', '325', '13', '124', '205', '907', '91', '79', '122', '787',\n",
              "       '694', '386', '300', '71', '474', '770', '9', '195', '333', '107',\n",
              "       '239', '950', '105', '3,972', '316', '82', '62', '840', '334',\n",
              "       '364', '375', '126', '541', '2,361', '41', '768', '272', '808',\n",
              "       '1,516', '285', '307', '1,399', '366', '55', '700', '12', '336',\n",
              "       '119', '157', '469', '2,923', '2,386', '1,111', '457', '357',\n",
              "       '509', '400', '26', '1,566', '3,667', '892', '271', '153', '483',\n",
              "       '309', '206', '1,167', '187', '349', '30', '1,114', '147', '37',\n",
              "       '683', '494', '625', '304', '614', '403', '211', '31', '2,143',\n",
              "       '97', '120', '584', '340', '480', '213', '459', '466', '235',\n",
              "       '103', '210', '2,258', '1,570', '1,106', '162', '529', '553',\n",
              "       '351', '34', '335', '68', '667', '343', '295', '69', '918', '408',\n",
              "       '444', '498', '3,228', '264', '93', '884', '209', '1,209', '238',\n",
              "       '1,028', '1,703', '51', '228', '278', '871', '319', '1,471', '19',\n",
              "       '669', '1,592', '436', '310', '1,599', '225', '332', '172', '35',\n",
              "       '600', '289', '568', '181', '567', '497', '941', '563', '1,667',\n",
              "       '464', '74', '87', '658', '800', '256', '388', '215', '708', '833',\n",
              "       '354', '434', '113', '72', '485', '633', '381', '536', '733', '27',\n",
              "       '585', '450', '299', '1,208', '735', '390', '339', '2,500', '10',\n",
              "       '350', '234', '515', '344', '539', '678', '288', '315', '746',\n",
              "       '1,855', '337', '84', '461', '1,796', '132', '312', '192', '1,429',\n",
              "       '392', '57', '318', '582', '5', '96', '2,750', '729', '1,150',\n",
              "       '2,864', '196', '439', '159', '611', '1,227', '183', '48', '535',\n",
              "       '328', '428', '286', '557', '3', '513', '322', '443', '212', '766',\n",
              "       '226', '1,103', '121', '476', '136', '1,176', '198', '7', '185',\n",
              "       '650', '247', '236', '75', '20', '178', '1,571', '52', '191',\n",
              "       '663', '413', '269', '662', '305', '1,475', '152', '3,632', '273',\n",
              "       '16', '111', '158', '208', '1,406', '989', '173', '998', '684',\n",
              "       '399', '792', '367', '706', '92', '984', '802', '109', '1,633',\n",
              "       '445', '3,026', '222', '1,250', '417', '189', '1,135', '175',\n",
              "       '796', '324', '441', '49', '507', '405', '458', '710', '556', '24',\n",
              "       '255', '214', '1', '1,423', '1,006', '816', '342', '141', '190',\n",
              "       '146', '262', '321', '199', '216', '825', '2,333', '1,252', '139',\n",
              "       '265', '858', '1,207', '217', '142', '672', '767', '530', '418',\n",
              "       '842', '184', '421', '1,056', '937', '410', '583', '566', '276',\n",
              "       '481', '424', '177', '1,024', '218', '640', '275', '426', '66',\n",
              "       '2,415', '599', '284', '302', '709', '2,069', '259', '149', '685',\n",
              "       '1,896', '268', '2,228', '809', '277', '831', '1,062', '832',\n",
              "       '3,279', '314', '565', '478', '129', '609', '165', '1,211', '569',\n",
              "       '1,076', '244', '1,854', '1,212', '1,113', '608', '885', '1,136',\n",
              "       '1,138', '1,674', '438', '456', '427', '151', '266', '2,279',\n",
              "       '776', '4,667', '558', '641', '303', '347', '628', '2,826', '677',\n",
              "       '395', '294', '291', '588', '805', '525', '607', '467', '346',\n",
              "       '572', '3,218', '1,086', '623', '4,730', '617', '90', '1,204',\n",
              "       '1,183', '544', '292', '179', '171', '376', '676', '1,546', '287',\n",
              "       '604', '900', '2,896', '838', '772', '290', '472', '429', '1,943',\n",
              "       '1,660', '279', '263', '1,110', '220', '828', '104', '327', '470',\n",
              "       '671', '945', '518', '591', '201', '46', '1,286', '320', '1,424',\n",
              "       '2,683', '854', '679', '875', '2,015', '502', '5,700', '281',\n",
              "       '164', '889', '394', '2,264', '613', '301', '631', '414', '98',\n",
              "       '898', '538', '895', '927', '365', '968', '1,874', '692', '374',\n",
              "       '391', '1,079', '258', '935', '1,323', '731', '449', '4,944',\n",
              "       '1,013', '2,769', '590', '227', '1,620', '296', '643', '203',\n",
              "       '2,153', '280', '867', '420', '161', '380', '839', '804', '956',\n",
              "       '719', '705', '581', '1,911', '1,154', '488', '1,178', '2', '577',\n",
              "       '274', '317', '1,153', '411', '422', '389', '431', '1,047', '795',\n",
              "       '2,191', '1,513', '387', '652', '635', '384', '1,007', '433',\n",
              "       '101', '822', '1,041', '552', '416', '1,904', '1,093', '2,470',\n",
              "       '533', '2,038', '847', '496', '465', '864', '2,000', '249', '491',\n",
              "       '516', '1,229', '270', '377', '1,448', '419', '1,019', '682',\n",
              "       '356', '1,186', '722', '868', '193', '446', '645', '1,134', '648',\n",
              "       '369', '254', '1,233', '532', '1,232', '1,073', '814', '1,711',\n",
              "       '762'], dtype=object)"
            ]
          },
          "metadata": {},
          "execution_count": 27
        }
      ]
    },
    {
      "cell_type": "code",
      "source": [
        "transaction = transaction[transaction['Individual_Price_US$']!='#VALUE!']"
      ],
      "metadata": {
        "id": "sPiF4cuJ-c9E"
      },
      "execution_count": null,
      "outputs": []
    },
    {
      "cell_type": "code",
      "source": [
        "transaction['Individual_Price_US$'].unique()"
      ],
      "metadata": {
        "colab": {
          "base_uri": "https://localhost:8080/"
        },
        "id": "4OOGAnvH_EXT",
        "outputId": "afabd42e-4f7b-4dc4-bca4-8725bfadcc02"
      },
      "execution_count": null,
      "outputs": [
        {
          "output_type": "execute_result",
          "data": {
            "text/plain": [
              "array(['576', '40', '137', '0', '241', '237', '88', '125', '155', '939',\n",
              "       '73', '331', '29', '250', '253', '282', '156', '460', '85', '500',\n",
              "       '248', '23', '44', '28', '352', '154', '14', '83', '17', '170',\n",
              "       '267', '131', '150', '378', '144', '169', '145', '36', '60', '473',\n",
              "       '110', '359', '432', '323', '127', '53', '920', '54', '219', '117',\n",
              "       '70', '11', '166', '200', '4', '100', '223', '550', '78', '298',\n",
              "       '714', '329', '58', '1,387', '148', '25', '133', '493', '245',\n",
              "       '108', '59', '65', '1,318', '455', '99', '261', '61', '94', '204',\n",
              "       '231', '695', '64', '32', '859', '56', '143', '382', '130', '33',\n",
              "       '50', '63', '38', '385', '775', '168', '252', '447', '102',\n",
              "       '1,497', '639', '81', '353', '167', '22', '115', '781', '1,389',\n",
              "       '116', '293', '140', '368', '80', '182', '18', '15', '123', '233',\n",
              "       '297', '86', '1,343', '176', '313', '306', '42', '3,839', '95',\n",
              "       '6', '257', '383', '243', '242', '47', '8', '341', '230', '138',\n",
              "       '224', '186', '118', '180', '39', '76', '43', '21', '77', '128',\n",
              "       '1,040', '194', '240', '67', '114', '135', '163', '644', '229',\n",
              "       '1,583', '188', '174', '89', '358', '311', '1,036', '283', '308',\n",
              "       '112', '348', '45', '134', '942', '202', '251', '106', '325', '13',\n",
              "       '124', '205', '907', '91', '79', '122', '787', '694', '386', '300',\n",
              "       '71', '474', '770', '9', '195', '333', '107', '239', '950', '105',\n",
              "       '3,972', '316', '82', '62', '840', '334', '364', '375', '126',\n",
              "       '541', '2,361', '41', '768', '272', '808', '1,516', '285', '307',\n",
              "       '1,399', '366', '55', '700', '12', '336', '119', '157', '469',\n",
              "       '2,923', '2,386', '1,111', '457', '357', '509', '400', '26',\n",
              "       '1,566', '3,667', '892', '271', '153', '483', '309', '206',\n",
              "       '1,167', '187', '349', '30', '1,114', '147', '37', '683', '494',\n",
              "       '625', '304', '614', '403', '211', '31', '2,143', '97', '120',\n",
              "       '584', '340', '480', '213', '459', '466', '235', '103', '210',\n",
              "       '2,258', '1,570', '1,106', '162', '529', '553', '351', '34', '335',\n",
              "       '68', '667', '343', '295', '69', '918', '408', '444', '498',\n",
              "       '3,228', '264', '93', '884', '209', '1,209', '238', '1,028',\n",
              "       '1,703', '51', '228', '278', '871', '319', '1,471', '19', '669',\n",
              "       '1,592', '436', '310', '1,599', '225', '332', '172', '35', '600',\n",
              "       '289', '568', '181', '567', '497', '941', '563', '1,667', '464',\n",
              "       '74', '87', '658', '800', '256', '388', '215', '708', '833', '354',\n",
              "       '434', '113', '72', '485', '633', '381', '536', '733', '27', '585',\n",
              "       '450', '299', '1,208', '735', '390', '339', '2,500', '10', '350',\n",
              "       '234', '515', '344', '539', '678', '288', '315', '746', '1,855',\n",
              "       '337', '84', '461', '1,796', '132', '312', '192', '1,429', '392',\n",
              "       '57', '318', '582', '5', '96', '2,750', '729', '1,150', '2,864',\n",
              "       '196', '439', '159', '611', '1,227', '183', '48', '535', '328',\n",
              "       '428', '286', '557', '3', '513', '322', '443', '212', '766', '226',\n",
              "       '1,103', '121', '476', '136', '1,176', '198', '7', '185', '650',\n",
              "       '247', '236', '75', '20', '178', '1,571', '52', '191', '663',\n",
              "       '413', '269', '662', '305', '1,475', '152', '3,632', '273', '16',\n",
              "       '111', '158', '208', '1,406', '989', '173', '998', '684', '399',\n",
              "       '792', '367', '706', '92', '984', '802', '109', '1,633', '445',\n",
              "       '3,026', '222', '1,250', '417', '189', '1,135', '175', '796',\n",
              "       '324', '441', '49', '507', '405', '458', '710', '556', '24', '255',\n",
              "       '214', '1', '1,423', '1,006', '816', '342', '141', '190', '146',\n",
              "       '262', '321', '199', '216', '825', '2,333', '1,252', '139', '265',\n",
              "       '858', '1,207', '217', '142', '672', '767', '530', '418', '842',\n",
              "       '184', '421', '1,056', '937', '410', '583', '566', '276', '481',\n",
              "       '424', '177', '1,024', '218', '640', '275', '426', '66', '2,415',\n",
              "       '599', '284', '302', '709', '2,069', '259', '149', '685', '1,896',\n",
              "       '268', '2,228', '809', '277', '831', '1,062', '832', '3,279',\n",
              "       '314', '565', '478', '129', '609', '165', '1,211', '569', '1,076',\n",
              "       '244', '1,854', '1,212', '1,113', '608', '885', '1,136', '1,138',\n",
              "       '1,674', '438', '456', '427', '151', '266', '2,279', '776',\n",
              "       '4,667', '558', '641', '303', '347', '628', '2,826', '677', '395',\n",
              "       '294', '291', '588', '805', '525', '607', '467', '346', '572',\n",
              "       '3,218', '1,086', '623', '4,730', '617', '90', '1,204', '1,183',\n",
              "       '544', '292', '179', '171', '376', '676', '1,546', '287', '604',\n",
              "       '900', '2,896', '838', '772', '290', '472', '429', '1,943',\n",
              "       '1,660', '279', '263', '1,110', '220', '828', '104', '327', '470',\n",
              "       '671', '945', '518', '591', '201', '46', '1,286', '320', '1,424',\n",
              "       '2,683', '854', '679', '875', '2,015', '502', '5,700', '281',\n",
              "       '164', '889', '394', '2,264', '613', '301', '631', '414', '98',\n",
              "       '898', '538', '895', '927', '365', '968', '1,874', '692', '374',\n",
              "       '391', '1,079', '258', '935', '1,323', '731', '449', '4,944',\n",
              "       '1,013', '2,769', '590', '227', '1,620', '296', '643', '203',\n",
              "       '2,153', '280', '867', '420', '161', '380', '839', '804', '956',\n",
              "       '719', '705', '581', '1,911', '1,154', '488', '1,178', '2', '577',\n",
              "       '274', '317', '1,153', '411', '422', '389', '431', '1,047', '795',\n",
              "       '2,191', '1,513', '387', '652', '635', '384', '1,007', '433',\n",
              "       '101', '822', '1,041', '552', '416', '1,904', '1,093', '2,470',\n",
              "       '533', '2,038', '847', '496', '465', '864', '2,000', '249', '491',\n",
              "       '516', '1,229', '270', '377', '1,448', '419', '1,019', '682',\n",
              "       '356', '1,186', '722', '868', '193', '446', '645', '1,134', '648',\n",
              "       '369', '254', '1,233', '532', '1,232', '1,073', '814', '1,711',\n",
              "       '762'], dtype=object)"
            ]
          },
          "metadata": {},
          "execution_count": 29
        }
      ]
    },
    {
      "cell_type": "code",
      "source": [
        "transaction['Individual_Price_US$']=transaction['Individual_Price_US$'].str.replace(',','')"
      ],
      "metadata": {
        "id": "f3T7lyIO_IUT"
      },
      "execution_count": null,
      "outputs": []
    },
    {
      "cell_type": "code",
      "source": [
        "transaction['Individual_Price_US$']=transaction['Individual_Price_US$'].astype('int')"
      ],
      "metadata": {
        "id": "VFo1cRgp_LeJ"
      },
      "execution_count": null,
      "outputs": []
    },
    {
      "cell_type": "code",
      "source": [
        "transaction.info()"
      ],
      "metadata": {
        "colab": {
          "base_uri": "https://localhost:8080/"
        },
        "id": "U9f4CZug_NXZ",
        "outputId": "be27148f-38e3-4496-db4c-73fc61830970"
      },
      "execution_count": null,
      "outputs": [
        {
          "output_type": "stream",
          "name": "stdout",
          "text": [
            "<class 'pandas.core.frame.DataFrame'>\n",
            "Int64Index: 2798 entries, 0 to 2809\n",
            "Data columns (total 12 columns):\n",
            " #   Column                Non-Null Count  Dtype         \n",
            "---  ------                --------------  -----         \n",
            " 0   Transaction_id        2798 non-null   object        \n",
            " 1   customer_id           2798 non-null   object        \n",
            " 2   Date                  2798 non-null   datetime64[ns]\n",
            " 3   Product               2798 non-null   object        \n",
            " 4   Gender                2798 non-null   object        \n",
            " 5   Device_Type           2798 non-null   object        \n",
            " 6   Category              2798 non-null   object        \n",
            " 7   Customer_Login_type   2798 non-null   object        \n",
            " 8   Delivery_Type         2798 non-null   object        \n",
            " 9   Quantity              2798 non-null   int64         \n",
            " 10  Amount US$            2798 non-null   int64         \n",
            " 11  Individual_Price_US$  2798 non-null   int64         \n",
            "dtypes: datetime64[ns](1), int64(3), object(8)\n",
            "memory usage: 284.2+ KB\n"
          ]
        }
      ]
    },
    {
      "cell_type": "code",
      "source": [
        "transaction.drop_duplicates()"
      ],
      "metadata": {
        "colab": {
          "base_uri": "https://localhost:8080/",
          "height": 659
        },
        "id": "A7VQ4uGz_TGU",
        "outputId": "d78be073-21c5-4057-fbb6-5f2f7e9677b5"
      },
      "execution_count": null,
      "outputs": [
        {
          "output_type": "execute_result",
          "data": {
            "text/plain": [
              "     Transaction_id customer_id       Date    Product  Gender Device_Type  \\\n",
              "0             40170  1348959766 2013-11-14  Hair Band  Female         Web   \n",
              "1             76028  1645228017 2013-12-21       Jean  Female         Web   \n",
              "2             17894  1610000572 2013-10-10      Shirt    Male         Web   \n",
              "3             17949  2217960309 2013-10-10      Shirt    Male         Web   \n",
              "4             17951  2219304866 2013-10-10     Shirts    Male         Web   \n",
              "...             ...         ...        ...        ...     ...         ...   \n",
              "2805          87229  1934341369 2014-01-04      Shoes  Female      Mobile   \n",
              "2806          91945  1506256089 2014-01-11      Shoes  Female      Mobile   \n",
              "2807          92063  1651310842 2014-01-11      Shoes  Female      Mobile   \n",
              "2808          92458  2152149636 2014-01-12      Shoes  Female      Mobile   \n",
              "2809          92660  1382338268 2014-01-12      Shoes  Female      Mobile   \n",
              "\n",
              "         Category Customer_Login_type     Delivery_Type  Quantity  Amount US$  \\\n",
              "0     Accessories              Member   one-day deliver        12        6910   \n",
              "1        Clothing               Guest   one-day deliver        16         641   \n",
              "2        Clothing              Member  one-day delivery        12        1647   \n",
              "3        Clothing              Member   one-day deliver        17           0   \n",
              "4        Clothing              Member   one-day deliver        22        5298   \n",
              "...           ...                 ...               ...       ...         ...   \n",
              "2805    wearables              Member   one-day deliver        13        3495   \n",
              "2806    wearables              Member   one-day deliver        13        9900   \n",
              "2807    wearables              Member   one-day deliver        23        1768   \n",
              "2808    wearables              Member   one-day deliver        16        9216   \n",
              "2809    wearables              Member   one-day deliver        16        3298   \n",
              "\n",
              "      Individual_Price_US$  \n",
              "0                      576  \n",
              "1                       40  \n",
              "2                      137  \n",
              "3                        0  \n",
              "4                      241  \n",
              "...                    ...  \n",
              "2805                   269  \n",
              "2806                   762  \n",
              "2807                    77  \n",
              "2808                   576  \n",
              "2809                   206  \n",
              "\n",
              "[2798 rows x 12 columns]"
            ],
            "text/html": [
              "\n",
              "  <div id=\"df-aeda69cc-350b-49ac-9135-12aad6008740\">\n",
              "    <div class=\"colab-df-container\">\n",
              "      <div>\n",
              "<style scoped>\n",
              "    .dataframe tbody tr th:only-of-type {\n",
              "        vertical-align: middle;\n",
              "    }\n",
              "\n",
              "    .dataframe tbody tr th {\n",
              "        vertical-align: top;\n",
              "    }\n",
              "\n",
              "    .dataframe thead th {\n",
              "        text-align: right;\n",
              "    }\n",
              "</style>\n",
              "<table border=\"1\" class=\"dataframe\">\n",
              "  <thead>\n",
              "    <tr style=\"text-align: right;\">\n",
              "      <th></th>\n",
              "      <th>Transaction_id</th>\n",
              "      <th>customer_id</th>\n",
              "      <th>Date</th>\n",
              "      <th>Product</th>\n",
              "      <th>Gender</th>\n",
              "      <th>Device_Type</th>\n",
              "      <th>Category</th>\n",
              "      <th>Customer_Login_type</th>\n",
              "      <th>Delivery_Type</th>\n",
              "      <th>Quantity</th>\n",
              "      <th>Amount US$</th>\n",
              "      <th>Individual_Price_US$</th>\n",
              "    </tr>\n",
              "  </thead>\n",
              "  <tbody>\n",
              "    <tr>\n",
              "      <th>0</th>\n",
              "      <td>40170</td>\n",
              "      <td>1348959766</td>\n",
              "      <td>2013-11-14</td>\n",
              "      <td>Hair Band</td>\n",
              "      <td>Female</td>\n",
              "      <td>Web</td>\n",
              "      <td>Accessories</td>\n",
              "      <td>Member</td>\n",
              "      <td>one-day deliver</td>\n",
              "      <td>12</td>\n",
              "      <td>6910</td>\n",
              "      <td>576</td>\n",
              "    </tr>\n",
              "    <tr>\n",
              "      <th>1</th>\n",
              "      <td>76028</td>\n",
              "      <td>1645228017</td>\n",
              "      <td>2013-12-21</td>\n",
              "      <td>Jean</td>\n",
              "      <td>Female</td>\n",
              "      <td>Web</td>\n",
              "      <td>Clothing</td>\n",
              "      <td>Guest</td>\n",
              "      <td>one-day deliver</td>\n",
              "      <td>16</td>\n",
              "      <td>641</td>\n",
              "      <td>40</td>\n",
              "    </tr>\n",
              "    <tr>\n",
              "      <th>2</th>\n",
              "      <td>17894</td>\n",
              "      <td>1610000572</td>\n",
              "      <td>2013-10-10</td>\n",
              "      <td>Shirt</td>\n",
              "      <td>Male</td>\n",
              "      <td>Web</td>\n",
              "      <td>Clothing</td>\n",
              "      <td>Member</td>\n",
              "      <td>one-day delivery</td>\n",
              "      <td>12</td>\n",
              "      <td>1647</td>\n",
              "      <td>137</td>\n",
              "    </tr>\n",
              "    <tr>\n",
              "      <th>3</th>\n",
              "      <td>17949</td>\n",
              "      <td>2217960309</td>\n",
              "      <td>2013-10-10</td>\n",
              "      <td>Shirt</td>\n",
              "      <td>Male</td>\n",
              "      <td>Web</td>\n",
              "      <td>Clothing</td>\n",
              "      <td>Member</td>\n",
              "      <td>one-day deliver</td>\n",
              "      <td>17</td>\n",
              "      <td>0</td>\n",
              "      <td>0</td>\n",
              "    </tr>\n",
              "    <tr>\n",
              "      <th>4</th>\n",
              "      <td>17951</td>\n",
              "      <td>2219304866</td>\n",
              "      <td>2013-10-10</td>\n",
              "      <td>Shirts</td>\n",
              "      <td>Male</td>\n",
              "      <td>Web</td>\n",
              "      <td>Clothing</td>\n",
              "      <td>Member</td>\n",
              "      <td>one-day deliver</td>\n",
              "      <td>22</td>\n",
              "      <td>5298</td>\n",
              "      <td>241</td>\n",
              "    </tr>\n",
              "    <tr>\n",
              "      <th>...</th>\n",
              "      <td>...</td>\n",
              "      <td>...</td>\n",
              "      <td>...</td>\n",
              "      <td>...</td>\n",
              "      <td>...</td>\n",
              "      <td>...</td>\n",
              "      <td>...</td>\n",
              "      <td>...</td>\n",
              "      <td>...</td>\n",
              "      <td>...</td>\n",
              "      <td>...</td>\n",
              "      <td>...</td>\n",
              "    </tr>\n",
              "    <tr>\n",
              "      <th>2805</th>\n",
              "      <td>87229</td>\n",
              "      <td>1934341369</td>\n",
              "      <td>2014-01-04</td>\n",
              "      <td>Shoes</td>\n",
              "      <td>Female</td>\n",
              "      <td>Mobile</td>\n",
              "      <td>wearables</td>\n",
              "      <td>Member</td>\n",
              "      <td>one-day deliver</td>\n",
              "      <td>13</td>\n",
              "      <td>3495</td>\n",
              "      <td>269</td>\n",
              "    </tr>\n",
              "    <tr>\n",
              "      <th>2806</th>\n",
              "      <td>91945</td>\n",
              "      <td>1506256089</td>\n",
              "      <td>2014-01-11</td>\n",
              "      <td>Shoes</td>\n",
              "      <td>Female</td>\n",
              "      <td>Mobile</td>\n",
              "      <td>wearables</td>\n",
              "      <td>Member</td>\n",
              "      <td>one-day deliver</td>\n",
              "      <td>13</td>\n",
              "      <td>9900</td>\n",
              "      <td>762</td>\n",
              "    </tr>\n",
              "    <tr>\n",
              "      <th>2807</th>\n",
              "      <td>92063</td>\n",
              "      <td>1651310842</td>\n",
              "      <td>2014-01-11</td>\n",
              "      <td>Shoes</td>\n",
              "      <td>Female</td>\n",
              "      <td>Mobile</td>\n",
              "      <td>wearables</td>\n",
              "      <td>Member</td>\n",
              "      <td>one-day deliver</td>\n",
              "      <td>23</td>\n",
              "      <td>1768</td>\n",
              "      <td>77</td>\n",
              "    </tr>\n",
              "    <tr>\n",
              "      <th>2808</th>\n",
              "      <td>92458</td>\n",
              "      <td>2152149636</td>\n",
              "      <td>2014-01-12</td>\n",
              "      <td>Shoes</td>\n",
              "      <td>Female</td>\n",
              "      <td>Mobile</td>\n",
              "      <td>wearables</td>\n",
              "      <td>Member</td>\n",
              "      <td>one-day deliver</td>\n",
              "      <td>16</td>\n",
              "      <td>9216</td>\n",
              "      <td>576</td>\n",
              "    </tr>\n",
              "    <tr>\n",
              "      <th>2809</th>\n",
              "      <td>92660</td>\n",
              "      <td>1382338268</td>\n",
              "      <td>2014-01-12</td>\n",
              "      <td>Shoes</td>\n",
              "      <td>Female</td>\n",
              "      <td>Mobile</td>\n",
              "      <td>wearables</td>\n",
              "      <td>Member</td>\n",
              "      <td>one-day deliver</td>\n",
              "      <td>16</td>\n",
              "      <td>3298</td>\n",
              "      <td>206</td>\n",
              "    </tr>\n",
              "  </tbody>\n",
              "</table>\n",
              "<p>2798 rows × 12 columns</p>\n",
              "</div>\n",
              "      <button class=\"colab-df-convert\" onclick=\"convertToInteractive('df-aeda69cc-350b-49ac-9135-12aad6008740')\"\n",
              "              title=\"Convert this dataframe to an interactive table.\"\n",
              "              style=\"display:none;\">\n",
              "        \n",
              "  <svg xmlns=\"http://www.w3.org/2000/svg\" height=\"24px\"viewBox=\"0 0 24 24\"\n",
              "       width=\"24px\">\n",
              "    <path d=\"M0 0h24v24H0V0z\" fill=\"none\"/>\n",
              "    <path d=\"M18.56 5.44l.94 2.06.94-2.06 2.06-.94-2.06-.94-.94-2.06-.94 2.06-2.06.94zm-11 1L8.5 8.5l.94-2.06 2.06-.94-2.06-.94L8.5 2.5l-.94 2.06-2.06.94zm10 10l.94 2.06.94-2.06 2.06-.94-2.06-.94-.94-2.06-.94 2.06-2.06.94z\"/><path d=\"M17.41 7.96l-1.37-1.37c-.4-.4-.92-.59-1.43-.59-.52 0-1.04.2-1.43.59L10.3 9.45l-7.72 7.72c-.78.78-.78 2.05 0 2.83L4 21.41c.39.39.9.59 1.41.59.51 0 1.02-.2 1.41-.59l7.78-7.78 2.81-2.81c.8-.78.8-2.07 0-2.86zM5.41 20L4 18.59l7.72-7.72 1.47 1.35L5.41 20z\"/>\n",
              "  </svg>\n",
              "      </button>\n",
              "      \n",
              "  <style>\n",
              "    .colab-df-container {\n",
              "      display:flex;\n",
              "      flex-wrap:wrap;\n",
              "      gap: 12px;\n",
              "    }\n",
              "\n",
              "    .colab-df-convert {\n",
              "      background-color: #E8F0FE;\n",
              "      border: none;\n",
              "      border-radius: 50%;\n",
              "      cursor: pointer;\n",
              "      display: none;\n",
              "      fill: #1967D2;\n",
              "      height: 32px;\n",
              "      padding: 0 0 0 0;\n",
              "      width: 32px;\n",
              "    }\n",
              "\n",
              "    .colab-df-convert:hover {\n",
              "      background-color: #E2EBFA;\n",
              "      box-shadow: 0px 1px 2px rgba(60, 64, 67, 0.3), 0px 1px 3px 1px rgba(60, 64, 67, 0.15);\n",
              "      fill: #174EA6;\n",
              "    }\n",
              "\n",
              "    [theme=dark] .colab-df-convert {\n",
              "      background-color: #3B4455;\n",
              "      fill: #D2E3FC;\n",
              "    }\n",
              "\n",
              "    [theme=dark] .colab-df-convert:hover {\n",
              "      background-color: #434B5C;\n",
              "      box-shadow: 0px 1px 3px 1px rgba(0, 0, 0, 0.15);\n",
              "      filter: drop-shadow(0px 1px 2px rgba(0, 0, 0, 0.3));\n",
              "      fill: #FFFFFF;\n",
              "    }\n",
              "  </style>\n",
              "\n",
              "      <script>\n",
              "        const buttonEl =\n",
              "          document.querySelector('#df-aeda69cc-350b-49ac-9135-12aad6008740 button.colab-df-convert');\n",
              "        buttonEl.style.display =\n",
              "          google.colab.kernel.accessAllowed ? 'block' : 'none';\n",
              "\n",
              "        async function convertToInteractive(key) {\n",
              "          const element = document.querySelector('#df-aeda69cc-350b-49ac-9135-12aad6008740');\n",
              "          const dataTable =\n",
              "            await google.colab.kernel.invokeFunction('convertToInteractive',\n",
              "                                                     [key], {});\n",
              "          if (!dataTable) return;\n",
              "\n",
              "          const docLinkHtml = 'Like what you see? Visit the ' +\n",
              "            '<a target=\"_blank\" href=https://colab.research.google.com/notebooks/data_table.ipynb>data table notebook</a>'\n",
              "            + ' to learn more about interactive tables.';\n",
              "          element.innerHTML = '';\n",
              "          dataTable['output_type'] = 'display_data';\n",
              "          await google.colab.output.renderOutput(dataTable, element);\n",
              "          const docLink = document.createElement('div');\n",
              "          docLink.innerHTML = docLinkHtml;\n",
              "          element.appendChild(docLink);\n",
              "        }\n",
              "      </script>\n",
              "    </div>\n",
              "  </div>\n",
              "  "
            ]
          },
          "metadata": {},
          "execution_count": 33
        }
      ]
    },
    {
      "cell_type": "code",
      "source": [
        "transaction.to_csv('transaction cleaned.csv')"
      ],
      "metadata": {
        "id": "FVgwCRvxBQhq"
      },
      "execution_count": null,
      "outputs": []
    },
    {
      "cell_type": "code",
      "source": [
        "from google.colab import files\n",
        "files.download('transaction cleaned.csv')"
      ],
      "metadata": {
        "colab": {
          "base_uri": "https://localhost:8080/",
          "height": 17
        },
        "id": "XEZ2_BkbJNCe",
        "outputId": "ef831e6e-c979-449f-9d68-91a53c4c80b8"
      },
      "execution_count": null,
      "outputs": [
        {
          "output_type": "display_data",
          "data": {
            "text/plain": [
              "<IPython.core.display.Javascript object>"
            ],
            "application/javascript": [
              "\n",
              "    async function download(id, filename, size) {\n",
              "      if (!google.colab.kernel.accessAllowed) {\n",
              "        return;\n",
              "      }\n",
              "      const div = document.createElement('div');\n",
              "      const label = document.createElement('label');\n",
              "      label.textContent = `Downloading \"${filename}\": `;\n",
              "      div.appendChild(label);\n",
              "      const progress = document.createElement('progress');\n",
              "      progress.max = size;\n",
              "      div.appendChild(progress);\n",
              "      document.body.appendChild(div);\n",
              "\n",
              "      const buffers = [];\n",
              "      let downloaded = 0;\n",
              "\n",
              "      const channel = await google.colab.kernel.comms.open(id);\n",
              "      // Send a message to notify the kernel that we're ready.\n",
              "      channel.send({})\n",
              "\n",
              "      for await (const message of channel.messages) {\n",
              "        // Send a message to notify the kernel that we're ready.\n",
              "        channel.send({})\n",
              "        if (message.buffers) {\n",
              "          for (const buffer of message.buffers) {\n",
              "            buffers.push(buffer);\n",
              "            downloaded += buffer.byteLength;\n",
              "            progress.value = downloaded;\n",
              "          }\n",
              "        }\n",
              "      }\n",
              "      const blob = new Blob(buffers, {type: 'application/binary'});\n",
              "      const a = document.createElement('a');\n",
              "      a.href = window.URL.createObjectURL(blob);\n",
              "      a.download = filename;\n",
              "      div.appendChild(a);\n",
              "      a.click();\n",
              "      div.remove();\n",
              "    }\n",
              "  "
            ]
          },
          "metadata": {}
        },
        {
          "output_type": "display_data",
          "data": {
            "text/plain": [
              "<IPython.core.display.Javascript object>"
            ],
            "application/javascript": [
              "download(\"download_68035dc5-bc83-4bc7-a908-d5f27c651212\", \"transaction cleaned.csv\", 264837)"
            ]
          },
          "metadata": {}
        }
      ]
    }
  ]
}